{
  "nbformat": 4,
  "nbformat_minor": 0,
  "metadata": {
    "colab": {
      "provenance": []
    },
    "kernelspec": {
      "name": "python3",
      "display_name": "Python 3"
    },
    "language_info": {
      "name": "python"
    }
  },
  "cells": [
    {
      "cell_type": "markdown",
      "source": [
        "- Importing Libraries"
      ],
      "metadata": {
        "id": "oqTxw-DGEpbR"
      }
    },
    {
      "cell_type": "code",
      "execution_count": null,
      "metadata": {
        "id": "wdTdbR0q7Nbx"
      },
      "outputs": [],
      "source": [
        "import requests\n",
        "from bs4 import BeautifulSoup as bs\n",
        "import pandas as pd"
      ]
    },
    {
      "cell_type": "markdown",
      "source": [
        "+ Url of the website we want to scrape : http://books.toscrape.com/"
      ],
      "metadata": {
        "id": "jrdsESSjFyiM"
      }
    },
    {
      "cell_type": "code",
      "source": [
        "url = 'http://books.toscrape.com/'"
      ],
      "metadata": {
        "id": "4UV08w4T8bXS"
      },
      "execution_count": null,
      "outputs": []
    },
    {
      "cell_type": "markdown",
      "source": [
        "- Use the requests.get() function to send an HTTP GET request to the specified URL and store the response."
      ],
      "metadata": {
        "id": "1e4DrQpLJFBg"
      }
    },
    {
      "cell_type": "code",
      "source": [
        "response = requests.get(url)\n",
        "response"
      ],
      "metadata": {
        "colab": {
          "base_uri": "https://localhost:8080/"
        },
        "id": "irTyOAZ8Fs25",
        "outputId": "d916b575-e295-42e9-9609-4d02ecd7d977"
      },
      "execution_count": null,
      "outputs": [
        {
          "output_type": "execute_result",
          "data": {
            "text/plain": [
              "<Response [200]>"
            ]
          },
          "metadata": {},
          "execution_count": 31
        }
      ]
    },
    {
      "cell_type": "markdown",
      "source": [
        "- The line response.status_code is used to check the HTTP status code returned by the web server in response to the HTTP request"
      ],
      "metadata": {
        "id": "GXzTrGyBJbCw"
      }
    },
    {
      "cell_type": "code",
      "source": [
        "response.status_code"
      ],
      "metadata": {
        "colab": {
          "base_uri": "https://localhost:8080/"
        },
        "id": "a82CPZrr0rmJ",
        "outputId": "5cd9834e-20ca-4631-fad2-d9e7f0d4096c"
      },
      "execution_count": null,
      "outputs": [
        {
          "output_type": "execute_result",
          "data": {
            "text/plain": [
              "200"
            ]
          },
          "metadata": {},
          "execution_count": 32
        }
      ]
    },
    {
      "cell_type": "code",
      "source": [
        "type(response.text) #type of the Object Response"
      ],
      "metadata": {
        "colab": {
          "base_uri": "https://localhost:8080/"
        },
        "id": "nHpCVnr71WdP",
        "outputId": "2cfdc6f9-a224-4ef0-ba4e-3b2aa4674b3a"
      },
      "execution_count": null,
      "outputs": [
        {
          "output_type": "execute_result",
          "data": {
            "text/plain": [
              "str"
            ]
          },
          "metadata": {},
          "execution_count": 33
        }
      ]
    },
    {
      "cell_type": "markdown",
      "source": [
        "- The line print(response.text[:100]) is printing the first 100 characters of the text content received in the HTTP response."
      ],
      "metadata": {
        "id": "nACZstaJdEcl"
      }
    },
    {
      "cell_type": "code",
      "source": [
        "response.text[:100]"
      ],
      "metadata": {
        "colab": {
          "base_uri": "https://localhost:8080/",
          "height": 35
        },
        "id": "1baW-vO_1jvd",
        "outputId": "b6557dd5-dcd5-4738-ffcc-2cfee1751d8b"
      },
      "execution_count": null,
      "outputs": [
        {
          "output_type": "execute_result",
          "data": {
            "text/plain": [
              "'<!DOCTYPE html>\\n<!--[if lt IE 7]>      <html lang=\"en-us\" class=\"no-js lt-ie9 lt-ie8 lt-ie7\"> <![end'"
            ],
            "application/vnd.google.colaboratory.intrinsic+json": {
              "type": "string"
            }
          },
          "metadata": {},
          "execution_count": 34
        }
      ]
    },
    {
      "cell_type": "markdown",
      "source": [
        "- bs(response.text): This creates a BeautifulSoup object (soup) by parsing the HTML content of the response.text. response.text is the text content of the HTTP response received from the server."
      ],
      "metadata": {
        "id": "fRIB9aANdZpC"
      }
    },
    {
      "cell_type": "code",
      "source": [
        "soup = bs(response.text)"
      ],
      "metadata": {
        "id": "M0o9kZqg1vgM"
      },
      "execution_count": null,
      "outputs": []
    },
    {
      "cell_type": "code",
      "source": [
        "type(soup)"
      ],
      "metadata": {
        "colab": {
          "base_uri": "https://localhost:8080/"
        },
        "id": "3b0FBkjNdQRU",
        "outputId": "3620aad6-10a7-4006-d72c-ab1465495892"
      },
      "execution_count": null,
      "outputs": [
        {
          "output_type": "execute_result",
          "data": {
            "text/plain": [
              "bs4.BeautifulSoup"
            ]
          },
          "metadata": {},
          "execution_count": 36
        }
      ]
    },
    {
      "cell_type": "markdown",
      "source": [
        "- Below line is using BeautifulSoup to find title tag within the BeautifulSoup object (soup)\n",
        "\n",
        "\n"
      ],
      "metadata": {
        "id": "4gLqS2KhdshR"
      }
    },
    {
      "cell_type": "code",
      "source": [
        "soup.title.text.strip() #title tag"
      ],
      "metadata": {
        "colab": {
          "base_uri": "https://localhost:8080/",
          "height": 35
        },
        "id": "plrQdVS-3N9F",
        "outputId": "c4abe012-19b4-45a6-c283-7891401ba297"
      },
      "execution_count": null,
      "outputs": [
        {
          "output_type": "execute_result",
          "data": {
            "text/plain": [
              "'All products | Books to Scrape - Sandbox'"
            ],
            "application/vnd.google.colaboratory.intrinsic+json": {
              "type": "string"
            }
          },
          "metadata": {},
          "execution_count": 37
        }
      ]
    },
    {
      "cell_type": "markdown",
      "source": [
        "- The line below is using BeautifulSoup to find all HTML elements with the tag 'a' and the class attribute set to 'product_pod' within the BeautifulSoup object (soup)"
      ],
      "metadata": {
        "id": "IHKRVz_TepDU"
      }
    },
    {
      "cell_type": "code",
      "source": [
        "books_tag = soup.find_all('article',class_ ='product_pod')"
      ],
      "metadata": {
        "id": "CubsaBS3CduW"
      },
      "execution_count": null,
      "outputs": []
    },
    {
      "cell_type": "markdown",
      "source": [
        "- This line gives no of elements in the books tag"
      ],
      "metadata": {
        "id": "ZLFbMFpuezBc"
      }
    },
    {
      "cell_type": "code",
      "source": [
        "len(books_tag)"
      ],
      "metadata": {
        "colab": {
          "base_uri": "https://localhost:8080/"
        },
        "id": "9ZDt4PthzJzN",
        "outputId": "35c9cf94-ad18-45b8-faca-2a4eac86c91b"
      },
      "execution_count": null,
      "outputs": [
        {
          "output_type": "execute_result",
          "data": {
            "text/plain": [
              "20"
            ]
          },
          "metadata": {},
          "execution_count": 39
        }
      ]
    },
    {
      "cell_type": "markdown",
      "source": [
        "- Used to get 1st element of books tag"
      ],
      "metadata": {
        "id": "iYeW_-5Le9vv"
      }
    },
    {
      "cell_type": "code",
      "source": [
        "book = books_tag[0]\n",
        "book"
      ],
      "metadata": {
        "id": "9h4Ap2pYFHps",
        "colab": {
          "base_uri": "https://localhost:8080/"
        },
        "outputId": "e27629c0-671c-4614-eefd-004bb74b2a47"
      },
      "execution_count": null,
      "outputs": [
        {
          "output_type": "execute_result",
          "data": {
            "text/plain": [
              "<article class=\"product_pod\">\n",
              "<div class=\"image_container\">\n",
              "<a href=\"catalogue/a-light-in-the-attic_1000/index.html\"><img alt=\"A Light in the Attic\" class=\"thumbnail\" src=\"media/cache/2c/da/2cdad67c44b002e7ead0cc35693c0e8b.jpg\"/></a>\n",
              "</div>\n",
              "<p class=\"star-rating Three\">\n",
              "<i class=\"icon-star\"></i>\n",
              "<i class=\"icon-star\"></i>\n",
              "<i class=\"icon-star\"></i>\n",
              "<i class=\"icon-star\"></i>\n",
              "<i class=\"icon-star\"></i>\n",
              "</p>\n",
              "<h3><a href=\"catalogue/a-light-in-the-attic_1000/index.html\" title=\"A Light in the Attic\">A Light in the ...</a></h3>\n",
              "<div class=\"product_price\">\n",
              "<p class=\"price_color\">Â£51.77</p>\n",
              "<p class=\"instock availability\">\n",
              "<i class=\"icon-ok\"></i>\n",
              "    \n",
              "        In stock\n",
              "    \n",
              "</p>\n",
              "<form>\n",
              "<button class=\"btn btn-primary btn-block\" data-loading-text=\"Adding...\" type=\"submit\">Add to basket</button>\n",
              "</form>\n",
              "</div>\n",
              "</article>"
            ]
          },
          "metadata": {},
          "execution_count": 40
        }
      ]
    },
    {
      "cell_type": "markdown",
      "source": [
        "- Extracting the 'title' of a book from the HTML structure of the selected book"
      ],
      "metadata": {
        "id": "Ee5n-_oXfEUA"
      }
    },
    {
      "cell_type": "code",
      "source": [
        "title_tag = book.find('a',title=True)['title']\n",
        "title_tag"
      ],
      "metadata": {
        "colab": {
          "base_uri": "https://localhost:8080/",
          "height": 35
        },
        "id": "qfVg17SeaYSI",
        "outputId": "ce5f96dd-b24f-459a-d3a4-fcf08b27aec5"
      },
      "execution_count": null,
      "outputs": [
        {
          "output_type": "execute_result",
          "data": {
            "text/plain": [
              "'A Light in the Attic'"
            ],
            "application/vnd.google.colaboratory.intrinsic+json": {
              "type": "string"
            }
          },
          "metadata": {},
          "execution_count": 41
        }
      ]
    },
    {
      "cell_type": "markdown",
      "source": [
        "- Extracting the 'Rating' of a book from the HTML structure of the selected book"
      ],
      "metadata": {
        "id": "-BycCFe6fOqg"
      }
    },
    {
      "cell_type": "code",
      "source": [
        "rating_tag = book.find('p')['class'][1]\n",
        "rating_tag"
      ],
      "metadata": {
        "colab": {
          "base_uri": "https://localhost:8080/",
          "height": 35
        },
        "id": "DzUDQ7bma_oy",
        "outputId": "e472c8cc-04c4-4abf-b035-51a5872de2df"
      },
      "execution_count": null,
      "outputs": [
        {
          "output_type": "execute_result",
          "data": {
            "text/plain": [
              "'Three'"
            ],
            "application/vnd.google.colaboratory.intrinsic+json": {
              "type": "string"
            }
          },
          "metadata": {},
          "execution_count": 42
        }
      ]
    },
    {
      "cell_type": "markdown",
      "source": [
        "- Extracting the 'price' of a book from the HTML structure of the selected book"
      ],
      "metadata": {
        "id": "U7msf-QVfUsZ"
      }
    },
    {
      "cell_type": "code",
      "source": [
        "price_tag = book.find('p',class_ = 'price_color').text[1:]\n",
        "price_tag"
      ],
      "metadata": {
        "colab": {
          "base_uri": "https://localhost:8080/",
          "height": 35
        },
        "id": "tIjNMKrxzayG",
        "outputId": "668247e3-638b-43b5-971d-f1ff9850996b"
      },
      "execution_count": null,
      "outputs": [
        {
          "output_type": "execute_result",
          "data": {
            "text/plain": [
              "'£51.77'"
            ],
            "application/vnd.google.colaboratory.intrinsic+json": {
              "type": "string"
            }
          },
          "metadata": {},
          "execution_count": 43
        }
      ]
    },
    {
      "cell_type": "markdown",
      "source": [
        "- Extracting the 'link' of a book from the HTML structure of the selected book"
      ],
      "metadata": {
        "id": "tdSaI5RcfY9U"
      }
    },
    {
      "cell_type": "code",
      "source": [
        "link_tag = book.find('a')['href']\n",
        "url + link_tag"
      ],
      "metadata": {
        "colab": {
          "base_uri": "https://localhost:8080/",
          "height": 35
        },
        "id": "vEl8Tcar14-G",
        "outputId": "1e03255b-a3ef-4cc8-ec80-83a83b19c3dc"
      },
      "execution_count": null,
      "outputs": [
        {
          "output_type": "execute_result",
          "data": {
            "text/plain": [
              "'http://books.toscrape.com/catalogue/a-light-in-the-attic_1000/index.html'"
            ],
            "application/vnd.google.colaboratory.intrinsic+json": {
              "type": "string"
            }
          },
          "metadata": {},
          "execution_count": 44
        }
      ]
    },
    {
      "cell_type": "code",
      "source": [
        "list_data =[] # Creating a list to store the data after being scraped"
      ],
      "metadata": {
        "id": "NLlxBf163Wvt"
      },
      "execution_count": null,
      "outputs": []
    },
    {
      "cell_type": "markdown",
      "source": [
        "- The code is part of a loop that iterates over the first 20 books in the 'books_tag' list, extracts information for each book, and appends it to the 'list_data'."
      ],
      "metadata": {
        "id": "lM-E0TAyfmTu"
      }
    },
    {
      "cell_type": "code",
      "source": [
        "for book in books_tag:\n",
        "  title_tag = book.find('a',title=True)['title']\n",
        "  rating_tag = book.find('p')['class'][1]\n",
        "  price_tag = book.find('p',class_ = 'price_color').text[1:]\n",
        "  link_tag = url + book.find('a')['href']\n",
        "\n",
        "  list_data.append([title_tag,rating_tag,price_tag,link_tag])"
      ],
      "metadata": {
        "id": "n7zB595S3zak"
      },
      "execution_count": null,
      "outputs": []
    },
    {
      "cell_type": "code",
      "source": [
        "columns = ['title','rating','price','link']"
      ],
      "metadata": {
        "id": "6T10h8Zr5ajA"
      },
      "execution_count": null,
      "outputs": []
    },
    {
      "cell_type": "markdown",
      "source": [
        "- This creates a DataFrame from list using pandas"
      ],
      "metadata": {
        "id": "8Sbqq0kLf1GR"
      }
    },
    {
      "cell_type": "code",
      "source": [
        "data = pd.DataFrame(list_data,columns=columns)"
      ],
      "metadata": {
        "id": "Fu6XrYOw5yhk"
      },
      "execution_count": null,
      "outputs": []
    },
    {
      "cell_type": "markdown",
      "source": [
        "- Printing complete data of One page"
      ],
      "metadata": {
        "id": "iM-VVzJQf-51"
      }
    },
    {
      "cell_type": "code",
      "source": [
        "data # complete data of one page"
      ],
      "metadata": {
        "id": "TZ3Wt9bP7GsD",
        "outputId": "3c661487-8466-4cb1-8bc7-a4c18650d8e9",
        "colab": {
          "base_uri": "https://localhost:8080/",
          "height": 677
        }
      },
      "execution_count": null,
      "outputs": [
        {
          "output_type": "execute_result",
          "data": {
            "text/plain": [
              "                                                title rating   price  \\\n",
              "0                                A Light in the Attic  Three  £51.77   \n",
              "1                                  Tipping the Velvet    One  £53.74   \n",
              "2                                          Soumission    One  £50.10   \n",
              "3                                       Sharp Objects   Four  £47.82   \n",
              "4               Sapiens: A Brief History of Humankind   Five  £54.23   \n",
              "5                                     The Requiem Red    One  £22.65   \n",
              "6   The Dirty Little Secrets of Getting Your Dream...   Four  £33.34   \n",
              "7   The Coming Woman: A Novel Based on the Life of...  Three  £17.93   \n",
              "8   The Boys in the Boat: Nine Americans and Their...   Four  £22.60   \n",
              "9                                     The Black Maria    One  £52.15   \n",
              "10     Starving Hearts (Triangular Trade Trilogy, #1)    Two  £13.99   \n",
              "11                              Shakespeare's Sonnets   Four  £20.66   \n",
              "12                                        Set Me Free   Five  £17.46   \n",
              "13  Scott Pilgrim's Precious Little Life (Scott Pi...   Five  £52.29   \n",
              "14                          Rip it Up and Start Again   Five  £35.02   \n",
              "15  Our Band Could Be Your Life: Scenes from the A...  Three  £57.25   \n",
              "16                                               Olio    One  £23.88   \n",
              "17  Mesaerion: The Best Science Fiction Stories 18...    One  £37.59   \n",
              "18                       Libertarianism for Beginners    Two  £51.33   \n",
              "19                            It's Only the Himalayas    Two  £45.17   \n",
              "\n",
              "                                                 link  \n",
              "0   http://books.toscrape.com/catalogue/a-light-in...  \n",
              "1   http://books.toscrape.com/catalogue/tipping-th...  \n",
              "2   http://books.toscrape.com/catalogue/soumission...  \n",
              "3   http://books.toscrape.com/catalogue/sharp-obje...  \n",
              "4   http://books.toscrape.com/catalogue/sapiens-a-...  \n",
              "5   http://books.toscrape.com/catalogue/the-requie...  \n",
              "6   http://books.toscrape.com/catalogue/the-dirty-...  \n",
              "7   http://books.toscrape.com/catalogue/the-coming...  \n",
              "8   http://books.toscrape.com/catalogue/the-boys-i...  \n",
              "9   http://books.toscrape.com/catalogue/the-black-...  \n",
              "10  http://books.toscrape.com/catalogue/starving-h...  \n",
              "11  http://books.toscrape.com/catalogue/shakespear...  \n",
              "12  http://books.toscrape.com/catalogue/set-me-fre...  \n",
              "13  http://books.toscrape.com/catalogue/scott-pilg...  \n",
              "14  http://books.toscrape.com/catalogue/rip-it-up-...  \n",
              "15  http://books.toscrape.com/catalogue/our-band-c...  \n",
              "16  http://books.toscrape.com/catalogue/olio_984/i...  \n",
              "17  http://books.toscrape.com/catalogue/mesaerion-...  \n",
              "18  http://books.toscrape.com/catalogue/libertaria...  \n",
              "19  http://books.toscrape.com/catalogue/its-only-t...  "
            ],
            "text/html": [
              "\n",
              "  <div id=\"df-74540281-eca0-4874-b207-1efd9ccf95d0\" class=\"colab-df-container\">\n",
              "    <div>\n",
              "<style scoped>\n",
              "    .dataframe tbody tr th:only-of-type {\n",
              "        vertical-align: middle;\n",
              "    }\n",
              "\n",
              "    .dataframe tbody tr th {\n",
              "        vertical-align: top;\n",
              "    }\n",
              "\n",
              "    .dataframe thead th {\n",
              "        text-align: right;\n",
              "    }\n",
              "</style>\n",
              "<table border=\"1\" class=\"dataframe\">\n",
              "  <thead>\n",
              "    <tr style=\"text-align: right;\">\n",
              "      <th></th>\n",
              "      <th>title</th>\n",
              "      <th>rating</th>\n",
              "      <th>price</th>\n",
              "      <th>link</th>\n",
              "    </tr>\n",
              "  </thead>\n",
              "  <tbody>\n",
              "    <tr>\n",
              "      <th>0</th>\n",
              "      <td>A Light in the Attic</td>\n",
              "      <td>Three</td>\n",
              "      <td>£51.77</td>\n",
              "      <td>http://books.toscrape.com/catalogue/a-light-in...</td>\n",
              "    </tr>\n",
              "    <tr>\n",
              "      <th>1</th>\n",
              "      <td>Tipping the Velvet</td>\n",
              "      <td>One</td>\n",
              "      <td>£53.74</td>\n",
              "      <td>http://books.toscrape.com/catalogue/tipping-th...</td>\n",
              "    </tr>\n",
              "    <tr>\n",
              "      <th>2</th>\n",
              "      <td>Soumission</td>\n",
              "      <td>One</td>\n",
              "      <td>£50.10</td>\n",
              "      <td>http://books.toscrape.com/catalogue/soumission...</td>\n",
              "    </tr>\n",
              "    <tr>\n",
              "      <th>3</th>\n",
              "      <td>Sharp Objects</td>\n",
              "      <td>Four</td>\n",
              "      <td>£47.82</td>\n",
              "      <td>http://books.toscrape.com/catalogue/sharp-obje...</td>\n",
              "    </tr>\n",
              "    <tr>\n",
              "      <th>4</th>\n",
              "      <td>Sapiens: A Brief History of Humankind</td>\n",
              "      <td>Five</td>\n",
              "      <td>£54.23</td>\n",
              "      <td>http://books.toscrape.com/catalogue/sapiens-a-...</td>\n",
              "    </tr>\n",
              "    <tr>\n",
              "      <th>5</th>\n",
              "      <td>The Requiem Red</td>\n",
              "      <td>One</td>\n",
              "      <td>£22.65</td>\n",
              "      <td>http://books.toscrape.com/catalogue/the-requie...</td>\n",
              "    </tr>\n",
              "    <tr>\n",
              "      <th>6</th>\n",
              "      <td>The Dirty Little Secrets of Getting Your Dream...</td>\n",
              "      <td>Four</td>\n",
              "      <td>£33.34</td>\n",
              "      <td>http://books.toscrape.com/catalogue/the-dirty-...</td>\n",
              "    </tr>\n",
              "    <tr>\n",
              "      <th>7</th>\n",
              "      <td>The Coming Woman: A Novel Based on the Life of...</td>\n",
              "      <td>Three</td>\n",
              "      <td>£17.93</td>\n",
              "      <td>http://books.toscrape.com/catalogue/the-coming...</td>\n",
              "    </tr>\n",
              "    <tr>\n",
              "      <th>8</th>\n",
              "      <td>The Boys in the Boat: Nine Americans and Their...</td>\n",
              "      <td>Four</td>\n",
              "      <td>£22.60</td>\n",
              "      <td>http://books.toscrape.com/catalogue/the-boys-i...</td>\n",
              "    </tr>\n",
              "    <tr>\n",
              "      <th>9</th>\n",
              "      <td>The Black Maria</td>\n",
              "      <td>One</td>\n",
              "      <td>£52.15</td>\n",
              "      <td>http://books.toscrape.com/catalogue/the-black-...</td>\n",
              "    </tr>\n",
              "    <tr>\n",
              "      <th>10</th>\n",
              "      <td>Starving Hearts (Triangular Trade Trilogy, #1)</td>\n",
              "      <td>Two</td>\n",
              "      <td>£13.99</td>\n",
              "      <td>http://books.toscrape.com/catalogue/starving-h...</td>\n",
              "    </tr>\n",
              "    <tr>\n",
              "      <th>11</th>\n",
              "      <td>Shakespeare's Sonnets</td>\n",
              "      <td>Four</td>\n",
              "      <td>£20.66</td>\n",
              "      <td>http://books.toscrape.com/catalogue/shakespear...</td>\n",
              "    </tr>\n",
              "    <tr>\n",
              "      <th>12</th>\n",
              "      <td>Set Me Free</td>\n",
              "      <td>Five</td>\n",
              "      <td>£17.46</td>\n",
              "      <td>http://books.toscrape.com/catalogue/set-me-fre...</td>\n",
              "    </tr>\n",
              "    <tr>\n",
              "      <th>13</th>\n",
              "      <td>Scott Pilgrim's Precious Little Life (Scott Pi...</td>\n",
              "      <td>Five</td>\n",
              "      <td>£52.29</td>\n",
              "      <td>http://books.toscrape.com/catalogue/scott-pilg...</td>\n",
              "    </tr>\n",
              "    <tr>\n",
              "      <th>14</th>\n",
              "      <td>Rip it Up and Start Again</td>\n",
              "      <td>Five</td>\n",
              "      <td>£35.02</td>\n",
              "      <td>http://books.toscrape.com/catalogue/rip-it-up-...</td>\n",
              "    </tr>\n",
              "    <tr>\n",
              "      <th>15</th>\n",
              "      <td>Our Band Could Be Your Life: Scenes from the A...</td>\n",
              "      <td>Three</td>\n",
              "      <td>£57.25</td>\n",
              "      <td>http://books.toscrape.com/catalogue/our-band-c...</td>\n",
              "    </tr>\n",
              "    <tr>\n",
              "      <th>16</th>\n",
              "      <td>Olio</td>\n",
              "      <td>One</td>\n",
              "      <td>£23.88</td>\n",
              "      <td>http://books.toscrape.com/catalogue/olio_984/i...</td>\n",
              "    </tr>\n",
              "    <tr>\n",
              "      <th>17</th>\n",
              "      <td>Mesaerion: The Best Science Fiction Stories 18...</td>\n",
              "      <td>One</td>\n",
              "      <td>£37.59</td>\n",
              "      <td>http://books.toscrape.com/catalogue/mesaerion-...</td>\n",
              "    </tr>\n",
              "    <tr>\n",
              "      <th>18</th>\n",
              "      <td>Libertarianism for Beginners</td>\n",
              "      <td>Two</td>\n",
              "      <td>£51.33</td>\n",
              "      <td>http://books.toscrape.com/catalogue/libertaria...</td>\n",
              "    </tr>\n",
              "    <tr>\n",
              "      <th>19</th>\n",
              "      <td>It's Only the Himalayas</td>\n",
              "      <td>Two</td>\n",
              "      <td>£45.17</td>\n",
              "      <td>http://books.toscrape.com/catalogue/its-only-t...</td>\n",
              "    </tr>\n",
              "  </tbody>\n",
              "</table>\n",
              "</div>\n",
              "    <div class=\"colab-df-buttons\">\n",
              "\n",
              "  <div class=\"colab-df-container\">\n",
              "    <button class=\"colab-df-convert\" onclick=\"convertToInteractive('df-74540281-eca0-4874-b207-1efd9ccf95d0')\"\n",
              "            title=\"Convert this dataframe to an interactive table.\"\n",
              "            style=\"display:none;\">\n",
              "\n",
              "  <svg xmlns=\"http://www.w3.org/2000/svg\" height=\"24px\" viewBox=\"0 -960 960 960\">\n",
              "    <path d=\"M120-120v-720h720v720H120Zm60-500h600v-160H180v160Zm220 220h160v-160H400v160Zm0 220h160v-160H400v160ZM180-400h160v-160H180v160Zm440 0h160v-160H620v160ZM180-180h160v-160H180v160Zm440 0h160v-160H620v160Z\"/>\n",
              "  </svg>\n",
              "    </button>\n",
              "\n",
              "  <style>\n",
              "    .colab-df-container {\n",
              "      display:flex;\n",
              "      gap: 12px;\n",
              "    }\n",
              "\n",
              "    .colab-df-convert {\n",
              "      background-color: #E8F0FE;\n",
              "      border: none;\n",
              "      border-radius: 50%;\n",
              "      cursor: pointer;\n",
              "      display: none;\n",
              "      fill: #1967D2;\n",
              "      height: 32px;\n",
              "      padding: 0 0 0 0;\n",
              "      width: 32px;\n",
              "    }\n",
              "\n",
              "    .colab-df-convert:hover {\n",
              "      background-color: #E2EBFA;\n",
              "      box-shadow: 0px 1px 2px rgba(60, 64, 67, 0.3), 0px 1px 3px 1px rgba(60, 64, 67, 0.15);\n",
              "      fill: #174EA6;\n",
              "    }\n",
              "\n",
              "    .colab-df-buttons div {\n",
              "      margin-bottom: 4px;\n",
              "    }\n",
              "\n",
              "    [theme=dark] .colab-df-convert {\n",
              "      background-color: #3B4455;\n",
              "      fill: #D2E3FC;\n",
              "    }\n",
              "\n",
              "    [theme=dark] .colab-df-convert:hover {\n",
              "      background-color: #434B5C;\n",
              "      box-shadow: 0px 1px 3px 1px rgba(0, 0, 0, 0.15);\n",
              "      filter: drop-shadow(0px 1px 2px rgba(0, 0, 0, 0.3));\n",
              "      fill: #FFFFFF;\n",
              "    }\n",
              "  </style>\n",
              "\n",
              "    <script>\n",
              "      const buttonEl =\n",
              "        document.querySelector('#df-74540281-eca0-4874-b207-1efd9ccf95d0 button.colab-df-convert');\n",
              "      buttonEl.style.display =\n",
              "        google.colab.kernel.accessAllowed ? 'block' : 'none';\n",
              "\n",
              "      async function convertToInteractive(key) {\n",
              "        const element = document.querySelector('#df-74540281-eca0-4874-b207-1efd9ccf95d0');\n",
              "        const dataTable =\n",
              "          await google.colab.kernel.invokeFunction('convertToInteractive',\n",
              "                                                    [key], {});\n",
              "        if (!dataTable) return;\n",
              "\n",
              "        const docLinkHtml = 'Like what you see? Visit the ' +\n",
              "          '<a target=\"_blank\" href=https://colab.research.google.com/notebooks/data_table.ipynb>data table notebook</a>'\n",
              "          + ' to learn more about interactive tables.';\n",
              "        element.innerHTML = '';\n",
              "        dataTable['output_type'] = 'display_data';\n",
              "        await google.colab.output.renderOutput(dataTable, element);\n",
              "        const docLink = document.createElement('div');\n",
              "        docLink.innerHTML = docLinkHtml;\n",
              "        element.appendChild(docLink);\n",
              "      }\n",
              "    </script>\n",
              "  </div>\n",
              "\n",
              "\n",
              "<div id=\"df-f1f46229-b347-452c-acd3-502181380f12\">\n",
              "  <button class=\"colab-df-quickchart\" onclick=\"quickchart('df-f1f46229-b347-452c-acd3-502181380f12')\"\n",
              "            title=\"Suggest charts\"\n",
              "            style=\"display:none;\">\n",
              "\n",
              "<svg xmlns=\"http://www.w3.org/2000/svg\" height=\"24px\"viewBox=\"0 0 24 24\"\n",
              "     width=\"24px\">\n",
              "    <g>\n",
              "        <path d=\"M19 3H5c-1.1 0-2 .9-2 2v14c0 1.1.9 2 2 2h14c1.1 0 2-.9 2-2V5c0-1.1-.9-2-2-2zM9 17H7v-7h2v7zm4 0h-2V7h2v10zm4 0h-2v-4h2v4z\"/>\n",
              "    </g>\n",
              "</svg>\n",
              "  </button>\n",
              "\n",
              "<style>\n",
              "  .colab-df-quickchart {\n",
              "      --bg-color: #E8F0FE;\n",
              "      --fill-color: #1967D2;\n",
              "      --hover-bg-color: #E2EBFA;\n",
              "      --hover-fill-color: #174EA6;\n",
              "      --disabled-fill-color: #AAA;\n",
              "      --disabled-bg-color: #DDD;\n",
              "  }\n",
              "\n",
              "  [theme=dark] .colab-df-quickchart {\n",
              "      --bg-color: #3B4455;\n",
              "      --fill-color: #D2E3FC;\n",
              "      --hover-bg-color: #434B5C;\n",
              "      --hover-fill-color: #FFFFFF;\n",
              "      --disabled-bg-color: #3B4455;\n",
              "      --disabled-fill-color: #666;\n",
              "  }\n",
              "\n",
              "  .colab-df-quickchart {\n",
              "    background-color: var(--bg-color);\n",
              "    border: none;\n",
              "    border-radius: 50%;\n",
              "    cursor: pointer;\n",
              "    display: none;\n",
              "    fill: var(--fill-color);\n",
              "    height: 32px;\n",
              "    padding: 0;\n",
              "    width: 32px;\n",
              "  }\n",
              "\n",
              "  .colab-df-quickchart:hover {\n",
              "    background-color: var(--hover-bg-color);\n",
              "    box-shadow: 0 1px 2px rgba(60, 64, 67, 0.3), 0 1px 3px 1px rgba(60, 64, 67, 0.15);\n",
              "    fill: var(--button-hover-fill-color);\n",
              "  }\n",
              "\n",
              "  .colab-df-quickchart-complete:disabled,\n",
              "  .colab-df-quickchart-complete:disabled:hover {\n",
              "    background-color: var(--disabled-bg-color);\n",
              "    fill: var(--disabled-fill-color);\n",
              "    box-shadow: none;\n",
              "  }\n",
              "\n",
              "  .colab-df-spinner {\n",
              "    border: 2px solid var(--fill-color);\n",
              "    border-color: transparent;\n",
              "    border-bottom-color: var(--fill-color);\n",
              "    animation:\n",
              "      spin 1s steps(1) infinite;\n",
              "  }\n",
              "\n",
              "  @keyframes spin {\n",
              "    0% {\n",
              "      border-color: transparent;\n",
              "      border-bottom-color: var(--fill-color);\n",
              "      border-left-color: var(--fill-color);\n",
              "    }\n",
              "    20% {\n",
              "      border-color: transparent;\n",
              "      border-left-color: var(--fill-color);\n",
              "      border-top-color: var(--fill-color);\n",
              "    }\n",
              "    30% {\n",
              "      border-color: transparent;\n",
              "      border-left-color: var(--fill-color);\n",
              "      border-top-color: var(--fill-color);\n",
              "      border-right-color: var(--fill-color);\n",
              "    }\n",
              "    40% {\n",
              "      border-color: transparent;\n",
              "      border-right-color: var(--fill-color);\n",
              "      border-top-color: var(--fill-color);\n",
              "    }\n",
              "    60% {\n",
              "      border-color: transparent;\n",
              "      border-right-color: var(--fill-color);\n",
              "    }\n",
              "    80% {\n",
              "      border-color: transparent;\n",
              "      border-right-color: var(--fill-color);\n",
              "      border-bottom-color: var(--fill-color);\n",
              "    }\n",
              "    90% {\n",
              "      border-color: transparent;\n",
              "      border-bottom-color: var(--fill-color);\n",
              "    }\n",
              "  }\n",
              "</style>\n",
              "\n",
              "  <script>\n",
              "    async function quickchart(key) {\n",
              "      const quickchartButtonEl =\n",
              "        document.querySelector('#' + key + ' button');\n",
              "      quickchartButtonEl.disabled = true;  // To prevent multiple clicks.\n",
              "      quickchartButtonEl.classList.add('colab-df-spinner');\n",
              "      try {\n",
              "        const charts = await google.colab.kernel.invokeFunction(\n",
              "            'suggestCharts', [key], {});\n",
              "      } catch (error) {\n",
              "        console.error('Error during call to suggestCharts:', error);\n",
              "      }\n",
              "      quickchartButtonEl.classList.remove('colab-df-spinner');\n",
              "      quickchartButtonEl.classList.add('colab-df-quickchart-complete');\n",
              "    }\n",
              "    (() => {\n",
              "      let quickchartButtonEl =\n",
              "        document.querySelector('#df-f1f46229-b347-452c-acd3-502181380f12 button');\n",
              "      quickchartButtonEl.style.display =\n",
              "        google.colab.kernel.accessAllowed ? 'block' : 'none';\n",
              "    })();\n",
              "  </script>\n",
              "</div>\n",
              "\n",
              "  <div id=\"id_bf5c11b4-6a22-49d8-8607-c1895d5d5df2\">\n",
              "    <style>\n",
              "      .colab-df-generate {\n",
              "        background-color: #E8F0FE;\n",
              "        border: none;\n",
              "        border-radius: 50%;\n",
              "        cursor: pointer;\n",
              "        display: none;\n",
              "        fill: #1967D2;\n",
              "        height: 32px;\n",
              "        padding: 0 0 0 0;\n",
              "        width: 32px;\n",
              "      }\n",
              "\n",
              "      .colab-df-generate:hover {\n",
              "        background-color: #E2EBFA;\n",
              "        box-shadow: 0px 1px 2px rgba(60, 64, 67, 0.3), 0px 1px 3px 1px rgba(60, 64, 67, 0.15);\n",
              "        fill: #174EA6;\n",
              "      }\n",
              "\n",
              "      [theme=dark] .colab-df-generate {\n",
              "        background-color: #3B4455;\n",
              "        fill: #D2E3FC;\n",
              "      }\n",
              "\n",
              "      [theme=dark] .colab-df-generate:hover {\n",
              "        background-color: #434B5C;\n",
              "        box-shadow: 0px 1px 3px 1px rgba(0, 0, 0, 0.15);\n",
              "        filter: drop-shadow(0px 1px 2px rgba(0, 0, 0, 0.3));\n",
              "        fill: #FFFFFF;\n",
              "      }\n",
              "    </style>\n",
              "    <button class=\"colab-df-generate\" onclick=\"generateWithVariable('data')\"\n",
              "            title=\"Generate code using this dataframe.\"\n",
              "            style=\"display:none;\">\n",
              "\n",
              "  <svg xmlns=\"http://www.w3.org/2000/svg\" height=\"24px\"viewBox=\"0 0 24 24\"\n",
              "       width=\"24px\">\n",
              "    <path d=\"M7,19H8.4L18.45,9,17,7.55,7,17.6ZM5,21V16.75L18.45,3.32a2,2,0,0,1,2.83,0l1.4,1.43a1.91,1.91,0,0,1,.58,1.4,1.91,1.91,0,0,1-.58,1.4L9.25,21ZM18.45,9,17,7.55Zm-12,3A5.31,5.31,0,0,0,4.9,8.1,5.31,5.31,0,0,0,1,6.5,5.31,5.31,0,0,0,4.9,4.9,5.31,5.31,0,0,0,6.5,1,5.31,5.31,0,0,0,8.1,4.9,5.31,5.31,0,0,0,12,6.5,5.46,5.46,0,0,0,6.5,12Z\"/>\n",
              "  </svg>\n",
              "    </button>\n",
              "    <script>\n",
              "      (() => {\n",
              "      const buttonEl =\n",
              "        document.querySelector('#id_bf5c11b4-6a22-49d8-8607-c1895d5d5df2 button.colab-df-generate');\n",
              "      buttonEl.style.display =\n",
              "        google.colab.kernel.accessAllowed ? 'block' : 'none';\n",
              "\n",
              "      buttonEl.onclick = () => {\n",
              "        google.colab.notebook.generateWithVariable('data');\n",
              "      }\n",
              "      })();\n",
              "    </script>\n",
              "  </div>\n",
              "\n",
              "    </div>\n",
              "  </div>\n"
            ]
          },
          "metadata": {},
          "execution_count": 49
        }
      ]
    },
    {
      "cell_type": "markdown",
      "source": [
        "#checking for url"
      ],
      "metadata": {
        "id": "I1l3ZX8Liy9z"
      }
    },
    {
      "cell_type": "code",
      "source": [
        "for i in range(1,5):\n",
        "  url1 = url + str('/catalogue/page-')+ str(i) +str('.html')\n",
        "  print(url1)"
      ],
      "metadata": {
        "id": "ZTeUDufd5Upq",
        "colab": {
          "base_uri": "https://localhost:8080/"
        },
        "outputId": "8d79efff-b10d-46cc-99ba-a65690df1520"
      },
      "execution_count": null,
      "outputs": [
        {
          "output_type": "stream",
          "name": "stdout",
          "text": [
            "http://books.toscrape.com//catalogue/page-1.html\n",
            "http://books.toscrape.com//catalogue/page-2.html\n",
            "http://books.toscrape.com//catalogue/page-3.html\n",
            "http://books.toscrape.com//catalogue/page-4.html\n"
          ]
        }
      ]
    },
    {
      "cell_type": "markdown",
      "source": [
        "## **Steps to follow to scrape data from all pages**\n",
        "- Loop through pages\n",
        "- Construct URL for each page\n",
        "- Make an HTTP request and create BeautifulSoup object\n",
        "- Find all book articles on the page\n",
        "- Extract data for each book on the page\n",
        "- Append the data to the list"
      ],
      "metadata": {
        "id": "X0mn1PgDgkE6"
      }
    },
    {
      "cell_type": "code",
      "source": [
        "data_list =[]\n",
        "total_pages = 50\n",
        "for page in range(1,total_pages+1):                              # loop through pages\n",
        "  url1 = url + str('/catalogue/page-')+ str(i) +str('.html')     # URL construction\n",
        "  response = requests.get(url1)                                  # Make HTTP request\n",
        "  soup = bs(response.text)\n",
        "  books_tag = soup.find_all('article',class_ = 'product_pod')    # Find all book articles on the page\n",
        "  for book in books_tag:                                         # Data for each book on the page is extracted\n",
        "    title_tag = book.find('a',title=True)['title']\n",
        "    rating_tag = book.find('p')['class'][1]\n",
        "    price_tag = book.find('p',class_ = 'price_color').text[1:]\n",
        "    link_tag = url + book.find('a')['href']\n",
        "    data_list.append([title_tag,rating_tag,price_tag,link_tag])  # Appending the data to list"
      ],
      "metadata": {
        "id": "l8L8_5yL3K6q"
      },
      "execution_count": null,
      "outputs": []
    },
    {
      "cell_type": "markdown",
      "source": [
        "#List of data that contains complete information of all pages"
      ],
      "metadata": {
        "id": "Dzsz_jt9gtqr"
      }
    },
    {
      "cell_type": "code",
      "source": [
        "data_list[:5]"
      ],
      "metadata": {
        "colab": {
          "base_uri": "https://localhost:8080/"
        },
        "id": "8V9uTf0gcLbw",
        "outputId": "e328fa65-c1d8-4fb2-a3ae-19d5411f9801"
      },
      "execution_count": null,
      "outputs": [
        {
          "output_type": "execute_result",
          "data": {
            "text/plain": [
              "[['The Nameless City (The Nameless City #1)',\n",
              "  'Four',\n",
              "  '£38.16',\n",
              "  'http://books.toscrape.com/the-nameless-city-the-nameless-city-1_940/index.html'],\n",
              " ['The Murder That Never Was (Forensic Instincts #5)',\n",
              "  'Three',\n",
              "  '£54.11',\n",
              "  'http://books.toscrape.com/the-murder-that-never-was-forensic-instincts-5_939/index.html'],\n",
              " [\"The Most Perfect Thing: Inside (and Outside) a Bird's Egg\",\n",
              "  'Four',\n",
              "  '£42.96',\n",
              "  'http://books.toscrape.com/the-most-perfect-thing-inside-and-outside-a-birds-egg_938/index.html'],\n",
              " ['The Mindfulness and Acceptance Workbook for Anxiety: A Guide to Breaking Free from Anxiety, Phobias, and Worry Using Acceptance and Commitment Therapy',\n",
              "  'Four',\n",
              "  '£23.89',\n",
              "  'http://books.toscrape.com/the-mindfulness-and-acceptance-workbook-for-anxiety-a-guide-to-breaking-free-from-anxiety-phobias-and-worry-using-acceptance-and-commitment-therapy_937/index.html'],\n",
              " ['The Life-Changing Magic of Tidying Up: The Japanese Art of Decluttering and Organizing',\n",
              "  'Three',\n",
              "  '£16.77',\n",
              "  'http://books.toscrape.com/the-life-changing-magic-of-tidying-up-the-japanese-art-of-decluttering-and-organizing_936/index.html']]"
            ]
          },
          "metadata": {},
          "execution_count": 52
        }
      ]
    },
    {
      "cell_type": "markdown",
      "source": [
        "#Converting a list of pages data into a DataFrame using pandas"
      ],
      "metadata": {
        "id": "Gox7C28jg7cr"
      }
    },
    {
      "cell_type": "code",
      "source": [
        "complete_df = pd.DataFrame(data_list, columns = columns)"
      ],
      "metadata": {
        "id": "uZjZRYeScWX-"
      },
      "execution_count": null,
      "outputs": []
    },
    {
      "cell_type": "code",
      "source": [
        "complete_df"
      ],
      "metadata": {
        "colab": {
          "base_uri": "https://localhost:8080/",
          "height": 424
        },
        "id": "YjuNGwrSceZw",
        "outputId": "12cc14d7-851b-4597-ee27-e4839161791a"
      },
      "execution_count": null,
      "outputs": [
        {
          "output_type": "execute_result",
          "data": {
            "text/plain": [
              "                                                 title rating   price  \\\n",
              "0             The Nameless City (The Nameless City #1)   Four  £38.16   \n",
              "1    The Murder That Never Was (Forensic Instincts #5)  Three  £54.11   \n",
              "2    The Most Perfect Thing: Inside (and Outside) a...   Four  £42.96   \n",
              "3    The Mindfulness and Acceptance Workbook for An...   Four  £23.89   \n",
              "4    The Life-Changing Magic of Tidying Up: The Jap...  Three  £16.77   \n",
              "..                                                 ...    ...     ...   \n",
              "995                                           Security    Two  £39.25   \n",
              "996      Saga, Volume 6 (Saga (Collected Editions) #6)  Three  £25.02   \n",
              "997      Saga, Volume 5 (Saga (Collected Editions) #5)    Two  £51.04   \n",
              "998  Reskilling America: Learning to Labor in the T...    Two  £19.83   \n",
              "999  Rat Queens, Vol. 3: Demons (Rat Queens (Collec...  Three  £50.40   \n",
              "\n",
              "                                                  link  \n",
              "0    http://books.toscrape.com/the-nameless-city-th...  \n",
              "1    http://books.toscrape.com/the-murder-that-neve...  \n",
              "2    http://books.toscrape.com/the-most-perfect-thi...  \n",
              "3    http://books.toscrape.com/the-mindfulness-and-...  \n",
              "4    http://books.toscrape.com/the-life-changing-ma...  \n",
              "..                                                 ...  \n",
              "995  http://books.toscrape.com/security_925/index.html  \n",
              "996  http://books.toscrape.com/saga-volume-6-saga-c...  \n",
              "997  http://books.toscrape.com/saga-volume-5-saga-c...  \n",
              "998  http://books.toscrape.com/reskilling-america-l...  \n",
              "999  http://books.toscrape.com/rat-queens-vol-3-dem...  \n",
              "\n",
              "[1000 rows x 4 columns]"
            ],
            "text/html": [
              "\n",
              "  <div id=\"df-ef55544e-e3f9-4705-8793-d817850c5608\" class=\"colab-df-container\">\n",
              "    <div>\n",
              "<style scoped>\n",
              "    .dataframe tbody tr th:only-of-type {\n",
              "        vertical-align: middle;\n",
              "    }\n",
              "\n",
              "    .dataframe tbody tr th {\n",
              "        vertical-align: top;\n",
              "    }\n",
              "\n",
              "    .dataframe thead th {\n",
              "        text-align: right;\n",
              "    }\n",
              "</style>\n",
              "<table border=\"1\" class=\"dataframe\">\n",
              "  <thead>\n",
              "    <tr style=\"text-align: right;\">\n",
              "      <th></th>\n",
              "      <th>title</th>\n",
              "      <th>rating</th>\n",
              "      <th>price</th>\n",
              "      <th>link</th>\n",
              "    </tr>\n",
              "  </thead>\n",
              "  <tbody>\n",
              "    <tr>\n",
              "      <th>0</th>\n",
              "      <td>The Nameless City (The Nameless City #1)</td>\n",
              "      <td>Four</td>\n",
              "      <td>£38.16</td>\n",
              "      <td>http://books.toscrape.com/the-nameless-city-th...</td>\n",
              "    </tr>\n",
              "    <tr>\n",
              "      <th>1</th>\n",
              "      <td>The Murder That Never Was (Forensic Instincts #5)</td>\n",
              "      <td>Three</td>\n",
              "      <td>£54.11</td>\n",
              "      <td>http://books.toscrape.com/the-murder-that-neve...</td>\n",
              "    </tr>\n",
              "    <tr>\n",
              "      <th>2</th>\n",
              "      <td>The Most Perfect Thing: Inside (and Outside) a...</td>\n",
              "      <td>Four</td>\n",
              "      <td>£42.96</td>\n",
              "      <td>http://books.toscrape.com/the-most-perfect-thi...</td>\n",
              "    </tr>\n",
              "    <tr>\n",
              "      <th>3</th>\n",
              "      <td>The Mindfulness and Acceptance Workbook for An...</td>\n",
              "      <td>Four</td>\n",
              "      <td>£23.89</td>\n",
              "      <td>http://books.toscrape.com/the-mindfulness-and-...</td>\n",
              "    </tr>\n",
              "    <tr>\n",
              "      <th>4</th>\n",
              "      <td>The Life-Changing Magic of Tidying Up: The Jap...</td>\n",
              "      <td>Three</td>\n",
              "      <td>£16.77</td>\n",
              "      <td>http://books.toscrape.com/the-life-changing-ma...</td>\n",
              "    </tr>\n",
              "    <tr>\n",
              "      <th>...</th>\n",
              "      <td>...</td>\n",
              "      <td>...</td>\n",
              "      <td>...</td>\n",
              "      <td>...</td>\n",
              "    </tr>\n",
              "    <tr>\n",
              "      <th>995</th>\n",
              "      <td>Security</td>\n",
              "      <td>Two</td>\n",
              "      <td>£39.25</td>\n",
              "      <td>http://books.toscrape.com/security_925/index.html</td>\n",
              "    </tr>\n",
              "    <tr>\n",
              "      <th>996</th>\n",
              "      <td>Saga, Volume 6 (Saga (Collected Editions) #6)</td>\n",
              "      <td>Three</td>\n",
              "      <td>£25.02</td>\n",
              "      <td>http://books.toscrape.com/saga-volume-6-saga-c...</td>\n",
              "    </tr>\n",
              "    <tr>\n",
              "      <th>997</th>\n",
              "      <td>Saga, Volume 5 (Saga (Collected Editions) #5)</td>\n",
              "      <td>Two</td>\n",
              "      <td>£51.04</td>\n",
              "      <td>http://books.toscrape.com/saga-volume-5-saga-c...</td>\n",
              "    </tr>\n",
              "    <tr>\n",
              "      <th>998</th>\n",
              "      <td>Reskilling America: Learning to Labor in the T...</td>\n",
              "      <td>Two</td>\n",
              "      <td>£19.83</td>\n",
              "      <td>http://books.toscrape.com/reskilling-america-l...</td>\n",
              "    </tr>\n",
              "    <tr>\n",
              "      <th>999</th>\n",
              "      <td>Rat Queens, Vol. 3: Demons (Rat Queens (Collec...</td>\n",
              "      <td>Three</td>\n",
              "      <td>£50.40</td>\n",
              "      <td>http://books.toscrape.com/rat-queens-vol-3-dem...</td>\n",
              "    </tr>\n",
              "  </tbody>\n",
              "</table>\n",
              "<p>1000 rows × 4 columns</p>\n",
              "</div>\n",
              "    <div class=\"colab-df-buttons\">\n",
              "\n",
              "  <div class=\"colab-df-container\">\n",
              "    <button class=\"colab-df-convert\" onclick=\"convertToInteractive('df-ef55544e-e3f9-4705-8793-d817850c5608')\"\n",
              "            title=\"Convert this dataframe to an interactive table.\"\n",
              "            style=\"display:none;\">\n",
              "\n",
              "  <svg xmlns=\"http://www.w3.org/2000/svg\" height=\"24px\" viewBox=\"0 -960 960 960\">\n",
              "    <path d=\"M120-120v-720h720v720H120Zm60-500h600v-160H180v160Zm220 220h160v-160H400v160Zm0 220h160v-160H400v160ZM180-400h160v-160H180v160Zm440 0h160v-160H620v160ZM180-180h160v-160H180v160Zm440 0h160v-160H620v160Z\"/>\n",
              "  </svg>\n",
              "    </button>\n",
              "\n",
              "  <style>\n",
              "    .colab-df-container {\n",
              "      display:flex;\n",
              "      gap: 12px;\n",
              "    }\n",
              "\n",
              "    .colab-df-convert {\n",
              "      background-color: #E8F0FE;\n",
              "      border: none;\n",
              "      border-radius: 50%;\n",
              "      cursor: pointer;\n",
              "      display: none;\n",
              "      fill: #1967D2;\n",
              "      height: 32px;\n",
              "      padding: 0 0 0 0;\n",
              "      width: 32px;\n",
              "    }\n",
              "\n",
              "    .colab-df-convert:hover {\n",
              "      background-color: #E2EBFA;\n",
              "      box-shadow: 0px 1px 2px rgba(60, 64, 67, 0.3), 0px 1px 3px 1px rgba(60, 64, 67, 0.15);\n",
              "      fill: #174EA6;\n",
              "    }\n",
              "\n",
              "    .colab-df-buttons div {\n",
              "      margin-bottom: 4px;\n",
              "    }\n",
              "\n",
              "    [theme=dark] .colab-df-convert {\n",
              "      background-color: #3B4455;\n",
              "      fill: #D2E3FC;\n",
              "    }\n",
              "\n",
              "    [theme=dark] .colab-df-convert:hover {\n",
              "      background-color: #434B5C;\n",
              "      box-shadow: 0px 1px 3px 1px rgba(0, 0, 0, 0.15);\n",
              "      filter: drop-shadow(0px 1px 2px rgba(0, 0, 0, 0.3));\n",
              "      fill: #FFFFFF;\n",
              "    }\n",
              "  </style>\n",
              "\n",
              "    <script>\n",
              "      const buttonEl =\n",
              "        document.querySelector('#df-ef55544e-e3f9-4705-8793-d817850c5608 button.colab-df-convert');\n",
              "      buttonEl.style.display =\n",
              "        google.colab.kernel.accessAllowed ? 'block' : 'none';\n",
              "\n",
              "      async function convertToInteractive(key) {\n",
              "        const element = document.querySelector('#df-ef55544e-e3f9-4705-8793-d817850c5608');\n",
              "        const dataTable =\n",
              "          await google.colab.kernel.invokeFunction('convertToInteractive',\n",
              "                                                    [key], {});\n",
              "        if (!dataTable) return;\n",
              "\n",
              "        const docLinkHtml = 'Like what you see? Visit the ' +\n",
              "          '<a target=\"_blank\" href=https://colab.research.google.com/notebooks/data_table.ipynb>data table notebook</a>'\n",
              "          + ' to learn more about interactive tables.';\n",
              "        element.innerHTML = '';\n",
              "        dataTable['output_type'] = 'display_data';\n",
              "        await google.colab.output.renderOutput(dataTable, element);\n",
              "        const docLink = document.createElement('div');\n",
              "        docLink.innerHTML = docLinkHtml;\n",
              "        element.appendChild(docLink);\n",
              "      }\n",
              "    </script>\n",
              "  </div>\n",
              "\n",
              "\n",
              "<div id=\"df-aa0129cc-a17f-4968-ad33-d821366b71c2\">\n",
              "  <button class=\"colab-df-quickchart\" onclick=\"quickchart('df-aa0129cc-a17f-4968-ad33-d821366b71c2')\"\n",
              "            title=\"Suggest charts\"\n",
              "            style=\"display:none;\">\n",
              "\n",
              "<svg xmlns=\"http://www.w3.org/2000/svg\" height=\"24px\"viewBox=\"0 0 24 24\"\n",
              "     width=\"24px\">\n",
              "    <g>\n",
              "        <path d=\"M19 3H5c-1.1 0-2 .9-2 2v14c0 1.1.9 2 2 2h14c1.1 0 2-.9 2-2V5c0-1.1-.9-2-2-2zM9 17H7v-7h2v7zm4 0h-2V7h2v10zm4 0h-2v-4h2v4z\"/>\n",
              "    </g>\n",
              "</svg>\n",
              "  </button>\n",
              "\n",
              "<style>\n",
              "  .colab-df-quickchart {\n",
              "      --bg-color: #E8F0FE;\n",
              "      --fill-color: #1967D2;\n",
              "      --hover-bg-color: #E2EBFA;\n",
              "      --hover-fill-color: #174EA6;\n",
              "      --disabled-fill-color: #AAA;\n",
              "      --disabled-bg-color: #DDD;\n",
              "  }\n",
              "\n",
              "  [theme=dark] .colab-df-quickchart {\n",
              "      --bg-color: #3B4455;\n",
              "      --fill-color: #D2E3FC;\n",
              "      --hover-bg-color: #434B5C;\n",
              "      --hover-fill-color: #FFFFFF;\n",
              "      --disabled-bg-color: #3B4455;\n",
              "      --disabled-fill-color: #666;\n",
              "  }\n",
              "\n",
              "  .colab-df-quickchart {\n",
              "    background-color: var(--bg-color);\n",
              "    border: none;\n",
              "    border-radius: 50%;\n",
              "    cursor: pointer;\n",
              "    display: none;\n",
              "    fill: var(--fill-color);\n",
              "    height: 32px;\n",
              "    padding: 0;\n",
              "    width: 32px;\n",
              "  }\n",
              "\n",
              "  .colab-df-quickchart:hover {\n",
              "    background-color: var(--hover-bg-color);\n",
              "    box-shadow: 0 1px 2px rgba(60, 64, 67, 0.3), 0 1px 3px 1px rgba(60, 64, 67, 0.15);\n",
              "    fill: var(--button-hover-fill-color);\n",
              "  }\n",
              "\n",
              "  .colab-df-quickchart-complete:disabled,\n",
              "  .colab-df-quickchart-complete:disabled:hover {\n",
              "    background-color: var(--disabled-bg-color);\n",
              "    fill: var(--disabled-fill-color);\n",
              "    box-shadow: none;\n",
              "  }\n",
              "\n",
              "  .colab-df-spinner {\n",
              "    border: 2px solid var(--fill-color);\n",
              "    border-color: transparent;\n",
              "    border-bottom-color: var(--fill-color);\n",
              "    animation:\n",
              "      spin 1s steps(1) infinite;\n",
              "  }\n",
              "\n",
              "  @keyframes spin {\n",
              "    0% {\n",
              "      border-color: transparent;\n",
              "      border-bottom-color: var(--fill-color);\n",
              "      border-left-color: var(--fill-color);\n",
              "    }\n",
              "    20% {\n",
              "      border-color: transparent;\n",
              "      border-left-color: var(--fill-color);\n",
              "      border-top-color: var(--fill-color);\n",
              "    }\n",
              "    30% {\n",
              "      border-color: transparent;\n",
              "      border-left-color: var(--fill-color);\n",
              "      border-top-color: var(--fill-color);\n",
              "      border-right-color: var(--fill-color);\n",
              "    }\n",
              "    40% {\n",
              "      border-color: transparent;\n",
              "      border-right-color: var(--fill-color);\n",
              "      border-top-color: var(--fill-color);\n",
              "    }\n",
              "    60% {\n",
              "      border-color: transparent;\n",
              "      border-right-color: var(--fill-color);\n",
              "    }\n",
              "    80% {\n",
              "      border-color: transparent;\n",
              "      border-right-color: var(--fill-color);\n",
              "      border-bottom-color: var(--fill-color);\n",
              "    }\n",
              "    90% {\n",
              "      border-color: transparent;\n",
              "      border-bottom-color: var(--fill-color);\n",
              "    }\n",
              "  }\n",
              "</style>\n",
              "\n",
              "  <script>\n",
              "    async function quickchart(key) {\n",
              "      const quickchartButtonEl =\n",
              "        document.querySelector('#' + key + ' button');\n",
              "      quickchartButtonEl.disabled = true;  // To prevent multiple clicks.\n",
              "      quickchartButtonEl.classList.add('colab-df-spinner');\n",
              "      try {\n",
              "        const charts = await google.colab.kernel.invokeFunction(\n",
              "            'suggestCharts', [key], {});\n",
              "      } catch (error) {\n",
              "        console.error('Error during call to suggestCharts:', error);\n",
              "      }\n",
              "      quickchartButtonEl.classList.remove('colab-df-spinner');\n",
              "      quickchartButtonEl.classList.add('colab-df-quickchart-complete');\n",
              "    }\n",
              "    (() => {\n",
              "      let quickchartButtonEl =\n",
              "        document.querySelector('#df-aa0129cc-a17f-4968-ad33-d821366b71c2 button');\n",
              "      quickchartButtonEl.style.display =\n",
              "        google.colab.kernel.accessAllowed ? 'block' : 'none';\n",
              "    })();\n",
              "  </script>\n",
              "</div>\n",
              "\n",
              "  <div id=\"id_8ab06c13-821b-4d65-9eee-7a62b3b101b3\">\n",
              "    <style>\n",
              "      .colab-df-generate {\n",
              "        background-color: #E8F0FE;\n",
              "        border: none;\n",
              "        border-radius: 50%;\n",
              "        cursor: pointer;\n",
              "        display: none;\n",
              "        fill: #1967D2;\n",
              "        height: 32px;\n",
              "        padding: 0 0 0 0;\n",
              "        width: 32px;\n",
              "      }\n",
              "\n",
              "      .colab-df-generate:hover {\n",
              "        background-color: #E2EBFA;\n",
              "        box-shadow: 0px 1px 2px rgba(60, 64, 67, 0.3), 0px 1px 3px 1px rgba(60, 64, 67, 0.15);\n",
              "        fill: #174EA6;\n",
              "      }\n",
              "\n",
              "      [theme=dark] .colab-df-generate {\n",
              "        background-color: #3B4455;\n",
              "        fill: #D2E3FC;\n",
              "      }\n",
              "\n",
              "      [theme=dark] .colab-df-generate:hover {\n",
              "        background-color: #434B5C;\n",
              "        box-shadow: 0px 1px 3px 1px rgba(0, 0, 0, 0.15);\n",
              "        filter: drop-shadow(0px 1px 2px rgba(0, 0, 0, 0.3));\n",
              "        fill: #FFFFFF;\n",
              "      }\n",
              "    </style>\n",
              "    <button class=\"colab-df-generate\" onclick=\"generateWithVariable('complete_df')\"\n",
              "            title=\"Generate code using this dataframe.\"\n",
              "            style=\"display:none;\">\n",
              "\n",
              "  <svg xmlns=\"http://www.w3.org/2000/svg\" height=\"24px\"viewBox=\"0 0 24 24\"\n",
              "       width=\"24px\">\n",
              "    <path d=\"M7,19H8.4L18.45,9,17,7.55,7,17.6ZM5,21V16.75L18.45,3.32a2,2,0,0,1,2.83,0l1.4,1.43a1.91,1.91,0,0,1,.58,1.4,1.91,1.91,0,0,1-.58,1.4L9.25,21ZM18.45,9,17,7.55Zm-12,3A5.31,5.31,0,0,0,4.9,8.1,5.31,5.31,0,0,0,1,6.5,5.31,5.31,0,0,0,4.9,4.9,5.31,5.31,0,0,0,6.5,1,5.31,5.31,0,0,0,8.1,4.9,5.31,5.31,0,0,0,12,6.5,5.46,5.46,0,0,0,6.5,12Z\"/>\n",
              "  </svg>\n",
              "    </button>\n",
              "    <script>\n",
              "      (() => {\n",
              "      const buttonEl =\n",
              "        document.querySelector('#id_8ab06c13-821b-4d65-9eee-7a62b3b101b3 button.colab-df-generate');\n",
              "      buttonEl.style.display =\n",
              "        google.colab.kernel.accessAllowed ? 'block' : 'none';\n",
              "\n",
              "      buttonEl.onclick = () => {\n",
              "        google.colab.notebook.generateWithVariable('complete_df');\n",
              "      }\n",
              "      })();\n",
              "    </script>\n",
              "  </div>\n",
              "\n",
              "    </div>\n",
              "  </div>\n"
            ]
          },
          "metadata": {},
          "execution_count": 54
        }
      ]
    },
    {
      "cell_type": "code",
      "source": [
        "complete_df.shape"
      ],
      "metadata": {
        "colab": {
          "base_uri": "https://localhost:8080/"
        },
        "id": "6Nl7xsc5idQh",
        "outputId": "67bdba24-2de4-4f9b-c615-51e8e3bbdb4d"
      },
      "execution_count": null,
      "outputs": [
        {
          "output_type": "execute_result",
          "data": {
            "text/plain": [
              "(1000, 4)"
            ]
          },
          "metadata": {},
          "execution_count": 55
        }
      ]
    },
    {
      "cell_type": "markdown",
      "source": [
        "- Converting the DataFrame to .csv file for further use"
      ],
      "metadata": {
        "id": "CRNhlAR9jFqm"
      }
    },
    {
      "cell_type": "code",
      "source": [
        "complete_df.to_csv('books_data.csv', index=False)"
      ],
      "metadata": {
        "id": "AuzcFOVwjJ-I"
      },
      "execution_count": null,
      "outputs": []
    },
    {
      "cell_type": "markdown",
      "source": [
        "#Using try except"
      ],
      "metadata": {
        "id": "g8-ASczf3U7C"
      }
    },
    {
      "cell_type": "code",
      "source": [
        "import numpy as np\n",
        "import time"
      ],
      "metadata": {
        "id": "GWlCgnli5tzu"
      },
      "execution_count": null,
      "outputs": []
    },
    {
      "cell_type": "code",
      "source": [
        "dl =[]\n",
        "total_pages = 50\n",
        "for page in range(1,total_pages+1):                              # loop through pages\n",
        "  url1 = url + str('/catalogue/page-')+ str(i) +str('.html')     # URL construction\n",
        "  try:\n",
        "    response = requests.get(url1)                                  # Make HTTP request\n",
        "  except Exception as e:\n",
        "    print(e)\n",
        "  if (response.status_code == 200):\n",
        "    soup = bs(response.text)\n",
        "    try:\n",
        "      books_tag = soup.find_all('article',class_ = 'product_pod')    # Find all book articles on the page\n",
        "      for book in books_tag:\n",
        "        try:\n",
        "          title_tag = book.find('a',title=True)['title']\n",
        "        except:\n",
        "          title_tag = np.nan\n",
        "\n",
        "        try:\n",
        "          rating_tag = book.find('p')['class'][1]\n",
        "        except:\n",
        "          rating_tag = np.nan\n",
        "\n",
        "        try:\n",
        "          price_tag = book.find('p',class_ = 'price_color').text[1:]\n",
        "        except:\n",
        "          price_tag = np.nan\n",
        "\n",
        "        try:\n",
        "          link_tag = url + book.find('a')['href']\n",
        "        except:\n",
        "          link_tag = np.nan\n",
        "\n",
        "        dl.append([title_tag,rating_tag,price_tag,link_tag])  # Appending the data to list\n",
        "    except:\n",
        "      print(f'Error reading page {page}')\n",
        "    time.sleep(5)"
      ],
      "metadata": {
        "id": "3q1WwMy83UGK"
      },
      "execution_count": null,
      "outputs": []
    },
    {
      "cell_type": "code",
      "source": [
        "dl[:3]"
      ],
      "metadata": {
        "colab": {
          "base_uri": "https://localhost:8080/"
        },
        "id": "Ty8fUgEU_hVE",
        "outputId": "dd928703-cef6-421a-bd21-e11d36f0bea4"
      },
      "execution_count": null,
      "outputs": [
        {
          "output_type": "execute_result",
          "data": {
            "text/plain": [
              "[['The Nameless City (The Nameless City #1)',\n",
              "  'Four',\n",
              "  '£38.16',\n",
              "  'http://books.toscrape.com/the-nameless-city-the-nameless-city-1_940/index.html'],\n",
              " ['The Murder That Never Was (Forensic Instincts #5)',\n",
              "  'Three',\n",
              "  '£54.11',\n",
              "  'http://books.toscrape.com/the-murder-that-never-was-forensic-instincts-5_939/index.html'],\n",
              " [\"The Most Perfect Thing: Inside (and Outside) a Bird's Egg\",\n",
              "  'Four',\n",
              "  '£42.96',\n",
              "  'http://books.toscrape.com/the-most-perfect-thing-inside-and-outside-a-birds-egg_938/index.html']]"
            ]
          },
          "metadata": {},
          "execution_count": 71
        }
      ]
    },
    {
      "cell_type": "code",
      "source": [
        "complete_data = pd.DataFrame(data_list, columns = columns)"
      ],
      "metadata": {
        "id": "ksue056iAIo8"
      },
      "execution_count": null,
      "outputs": []
    },
    {
      "cell_type": "code",
      "source": [
        "complete_data.head()"
      ],
      "metadata": {
        "colab": {
          "base_uri": "https://localhost:8080/",
          "height": 206
        },
        "id": "A2EIXKmGAOvR",
        "outputId": "5d5aaf21-2d21-4c07-acd1-2c01d49210cc"
      },
      "execution_count": null,
      "outputs": [
        {
          "output_type": "execute_result",
          "data": {
            "text/plain": [
              "                                               title rating   price  \\\n",
              "0           The Nameless City (The Nameless City #1)   Four  £38.16   \n",
              "1  The Murder That Never Was (Forensic Instincts #5)  Three  £54.11   \n",
              "2  The Most Perfect Thing: Inside (and Outside) a...   Four  £42.96   \n",
              "3  The Mindfulness and Acceptance Workbook for An...   Four  £23.89   \n",
              "4  The Life-Changing Magic of Tidying Up: The Jap...  Three  £16.77   \n",
              "\n",
              "                                                link  \n",
              "0  http://books.toscrape.com/the-nameless-city-th...  \n",
              "1  http://books.toscrape.com/the-murder-that-neve...  \n",
              "2  http://books.toscrape.com/the-most-perfect-thi...  \n",
              "3  http://books.toscrape.com/the-mindfulness-and-...  \n",
              "4  http://books.toscrape.com/the-life-changing-ma...  "
            ],
            "text/html": [
              "\n",
              "  <div id=\"df-4347a18d-2b63-4c3d-b914-b52f5aff74df\" class=\"colab-df-container\">\n",
              "    <div>\n",
              "<style scoped>\n",
              "    .dataframe tbody tr th:only-of-type {\n",
              "        vertical-align: middle;\n",
              "    }\n",
              "\n",
              "    .dataframe tbody tr th {\n",
              "        vertical-align: top;\n",
              "    }\n",
              "\n",
              "    .dataframe thead th {\n",
              "        text-align: right;\n",
              "    }\n",
              "</style>\n",
              "<table border=\"1\" class=\"dataframe\">\n",
              "  <thead>\n",
              "    <tr style=\"text-align: right;\">\n",
              "      <th></th>\n",
              "      <th>title</th>\n",
              "      <th>rating</th>\n",
              "      <th>price</th>\n",
              "      <th>link</th>\n",
              "    </tr>\n",
              "  </thead>\n",
              "  <tbody>\n",
              "    <tr>\n",
              "      <th>0</th>\n",
              "      <td>The Nameless City (The Nameless City #1)</td>\n",
              "      <td>Four</td>\n",
              "      <td>£38.16</td>\n",
              "      <td>http://books.toscrape.com/the-nameless-city-th...</td>\n",
              "    </tr>\n",
              "    <tr>\n",
              "      <th>1</th>\n",
              "      <td>The Murder That Never Was (Forensic Instincts #5)</td>\n",
              "      <td>Three</td>\n",
              "      <td>£54.11</td>\n",
              "      <td>http://books.toscrape.com/the-murder-that-neve...</td>\n",
              "    </tr>\n",
              "    <tr>\n",
              "      <th>2</th>\n",
              "      <td>The Most Perfect Thing: Inside (and Outside) a...</td>\n",
              "      <td>Four</td>\n",
              "      <td>£42.96</td>\n",
              "      <td>http://books.toscrape.com/the-most-perfect-thi...</td>\n",
              "    </tr>\n",
              "    <tr>\n",
              "      <th>3</th>\n",
              "      <td>The Mindfulness and Acceptance Workbook for An...</td>\n",
              "      <td>Four</td>\n",
              "      <td>£23.89</td>\n",
              "      <td>http://books.toscrape.com/the-mindfulness-and-...</td>\n",
              "    </tr>\n",
              "    <tr>\n",
              "      <th>4</th>\n",
              "      <td>The Life-Changing Magic of Tidying Up: The Jap...</td>\n",
              "      <td>Three</td>\n",
              "      <td>£16.77</td>\n",
              "      <td>http://books.toscrape.com/the-life-changing-ma...</td>\n",
              "    </tr>\n",
              "  </tbody>\n",
              "</table>\n",
              "</div>\n",
              "    <div class=\"colab-df-buttons\">\n",
              "\n",
              "  <div class=\"colab-df-container\">\n",
              "    <button class=\"colab-df-convert\" onclick=\"convertToInteractive('df-4347a18d-2b63-4c3d-b914-b52f5aff74df')\"\n",
              "            title=\"Convert this dataframe to an interactive table.\"\n",
              "            style=\"display:none;\">\n",
              "\n",
              "  <svg xmlns=\"http://www.w3.org/2000/svg\" height=\"24px\" viewBox=\"0 -960 960 960\">\n",
              "    <path d=\"M120-120v-720h720v720H120Zm60-500h600v-160H180v160Zm220 220h160v-160H400v160Zm0 220h160v-160H400v160ZM180-400h160v-160H180v160Zm440 0h160v-160H620v160ZM180-180h160v-160H180v160Zm440 0h160v-160H620v160Z\"/>\n",
              "  </svg>\n",
              "    </button>\n",
              "\n",
              "  <style>\n",
              "    .colab-df-container {\n",
              "      display:flex;\n",
              "      gap: 12px;\n",
              "    }\n",
              "\n",
              "    .colab-df-convert {\n",
              "      background-color: #E8F0FE;\n",
              "      border: none;\n",
              "      border-radius: 50%;\n",
              "      cursor: pointer;\n",
              "      display: none;\n",
              "      fill: #1967D2;\n",
              "      height: 32px;\n",
              "      padding: 0 0 0 0;\n",
              "      width: 32px;\n",
              "    }\n",
              "\n",
              "    .colab-df-convert:hover {\n",
              "      background-color: #E2EBFA;\n",
              "      box-shadow: 0px 1px 2px rgba(60, 64, 67, 0.3), 0px 1px 3px 1px rgba(60, 64, 67, 0.15);\n",
              "      fill: #174EA6;\n",
              "    }\n",
              "\n",
              "    .colab-df-buttons div {\n",
              "      margin-bottom: 4px;\n",
              "    }\n",
              "\n",
              "    [theme=dark] .colab-df-convert {\n",
              "      background-color: #3B4455;\n",
              "      fill: #D2E3FC;\n",
              "    }\n",
              "\n",
              "    [theme=dark] .colab-df-convert:hover {\n",
              "      background-color: #434B5C;\n",
              "      box-shadow: 0px 1px 3px 1px rgba(0, 0, 0, 0.15);\n",
              "      filter: drop-shadow(0px 1px 2px rgba(0, 0, 0, 0.3));\n",
              "      fill: #FFFFFF;\n",
              "    }\n",
              "  </style>\n",
              "\n",
              "    <script>\n",
              "      const buttonEl =\n",
              "        document.querySelector('#df-4347a18d-2b63-4c3d-b914-b52f5aff74df button.colab-df-convert');\n",
              "      buttonEl.style.display =\n",
              "        google.colab.kernel.accessAllowed ? 'block' : 'none';\n",
              "\n",
              "      async function convertToInteractive(key) {\n",
              "        const element = document.querySelector('#df-4347a18d-2b63-4c3d-b914-b52f5aff74df');\n",
              "        const dataTable =\n",
              "          await google.colab.kernel.invokeFunction('convertToInteractive',\n",
              "                                                    [key], {});\n",
              "        if (!dataTable) return;\n",
              "\n",
              "        const docLinkHtml = 'Like what you see? Visit the ' +\n",
              "          '<a target=\"_blank\" href=https://colab.research.google.com/notebooks/data_table.ipynb>data table notebook</a>'\n",
              "          + ' to learn more about interactive tables.';\n",
              "        element.innerHTML = '';\n",
              "        dataTable['output_type'] = 'display_data';\n",
              "        await google.colab.output.renderOutput(dataTable, element);\n",
              "        const docLink = document.createElement('div');\n",
              "        docLink.innerHTML = docLinkHtml;\n",
              "        element.appendChild(docLink);\n",
              "      }\n",
              "    </script>\n",
              "  </div>\n",
              "\n",
              "\n",
              "<div id=\"df-0e480371-7ba0-4976-8ba6-becdabdd04e8\">\n",
              "  <button class=\"colab-df-quickchart\" onclick=\"quickchart('df-0e480371-7ba0-4976-8ba6-becdabdd04e8')\"\n",
              "            title=\"Suggest charts\"\n",
              "            style=\"display:none;\">\n",
              "\n",
              "<svg xmlns=\"http://www.w3.org/2000/svg\" height=\"24px\"viewBox=\"0 0 24 24\"\n",
              "     width=\"24px\">\n",
              "    <g>\n",
              "        <path d=\"M19 3H5c-1.1 0-2 .9-2 2v14c0 1.1.9 2 2 2h14c1.1 0 2-.9 2-2V5c0-1.1-.9-2-2-2zM9 17H7v-7h2v7zm4 0h-2V7h2v10zm4 0h-2v-4h2v4z\"/>\n",
              "    </g>\n",
              "</svg>\n",
              "  </button>\n",
              "\n",
              "<style>\n",
              "  .colab-df-quickchart {\n",
              "      --bg-color: #E8F0FE;\n",
              "      --fill-color: #1967D2;\n",
              "      --hover-bg-color: #E2EBFA;\n",
              "      --hover-fill-color: #174EA6;\n",
              "      --disabled-fill-color: #AAA;\n",
              "      --disabled-bg-color: #DDD;\n",
              "  }\n",
              "\n",
              "  [theme=dark] .colab-df-quickchart {\n",
              "      --bg-color: #3B4455;\n",
              "      --fill-color: #D2E3FC;\n",
              "      --hover-bg-color: #434B5C;\n",
              "      --hover-fill-color: #FFFFFF;\n",
              "      --disabled-bg-color: #3B4455;\n",
              "      --disabled-fill-color: #666;\n",
              "  }\n",
              "\n",
              "  .colab-df-quickchart {\n",
              "    background-color: var(--bg-color);\n",
              "    border: none;\n",
              "    border-radius: 50%;\n",
              "    cursor: pointer;\n",
              "    display: none;\n",
              "    fill: var(--fill-color);\n",
              "    height: 32px;\n",
              "    padding: 0;\n",
              "    width: 32px;\n",
              "  }\n",
              "\n",
              "  .colab-df-quickchart:hover {\n",
              "    background-color: var(--hover-bg-color);\n",
              "    box-shadow: 0 1px 2px rgba(60, 64, 67, 0.3), 0 1px 3px 1px rgba(60, 64, 67, 0.15);\n",
              "    fill: var(--button-hover-fill-color);\n",
              "  }\n",
              "\n",
              "  .colab-df-quickchart-complete:disabled,\n",
              "  .colab-df-quickchart-complete:disabled:hover {\n",
              "    background-color: var(--disabled-bg-color);\n",
              "    fill: var(--disabled-fill-color);\n",
              "    box-shadow: none;\n",
              "  }\n",
              "\n",
              "  .colab-df-spinner {\n",
              "    border: 2px solid var(--fill-color);\n",
              "    border-color: transparent;\n",
              "    border-bottom-color: var(--fill-color);\n",
              "    animation:\n",
              "      spin 1s steps(1) infinite;\n",
              "  }\n",
              "\n",
              "  @keyframes spin {\n",
              "    0% {\n",
              "      border-color: transparent;\n",
              "      border-bottom-color: var(--fill-color);\n",
              "      border-left-color: var(--fill-color);\n",
              "    }\n",
              "    20% {\n",
              "      border-color: transparent;\n",
              "      border-left-color: var(--fill-color);\n",
              "      border-top-color: var(--fill-color);\n",
              "    }\n",
              "    30% {\n",
              "      border-color: transparent;\n",
              "      border-left-color: var(--fill-color);\n",
              "      border-top-color: var(--fill-color);\n",
              "      border-right-color: var(--fill-color);\n",
              "    }\n",
              "    40% {\n",
              "      border-color: transparent;\n",
              "      border-right-color: var(--fill-color);\n",
              "      border-top-color: var(--fill-color);\n",
              "    }\n",
              "    60% {\n",
              "      border-color: transparent;\n",
              "      border-right-color: var(--fill-color);\n",
              "    }\n",
              "    80% {\n",
              "      border-color: transparent;\n",
              "      border-right-color: var(--fill-color);\n",
              "      border-bottom-color: var(--fill-color);\n",
              "    }\n",
              "    90% {\n",
              "      border-color: transparent;\n",
              "      border-bottom-color: var(--fill-color);\n",
              "    }\n",
              "  }\n",
              "</style>\n",
              "\n",
              "  <script>\n",
              "    async function quickchart(key) {\n",
              "      const quickchartButtonEl =\n",
              "        document.querySelector('#' + key + ' button');\n",
              "      quickchartButtonEl.disabled = true;  // To prevent multiple clicks.\n",
              "      quickchartButtonEl.classList.add('colab-df-spinner');\n",
              "      try {\n",
              "        const charts = await google.colab.kernel.invokeFunction(\n",
              "            'suggestCharts', [key], {});\n",
              "      } catch (error) {\n",
              "        console.error('Error during call to suggestCharts:', error);\n",
              "      }\n",
              "      quickchartButtonEl.classList.remove('colab-df-spinner');\n",
              "      quickchartButtonEl.classList.add('colab-df-quickchart-complete');\n",
              "    }\n",
              "    (() => {\n",
              "      let quickchartButtonEl =\n",
              "        document.querySelector('#df-0e480371-7ba0-4976-8ba6-becdabdd04e8 button');\n",
              "      quickchartButtonEl.style.display =\n",
              "        google.colab.kernel.accessAllowed ? 'block' : 'none';\n",
              "    })();\n",
              "  </script>\n",
              "</div>\n",
              "\n",
              "    </div>\n",
              "  </div>\n"
            ]
          },
          "metadata": {},
          "execution_count": 73
        }
      ]
    },
    {
      "cell_type": "code",
      "source": [
        "complete_data.to_csv('data_of_books.csv', index=False)"
      ],
      "metadata": {
        "id": "zVaLmeGKAh6F"
      },
      "execution_count": null,
      "outputs": []
    }
  ]
}